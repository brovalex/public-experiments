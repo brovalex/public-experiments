{
 "cells": [
  {
   "cell_type": "markdown",
   "metadata": {},
   "source": [
    "# Extracting annotations from Kobo file\n",
    "\n",
    "Annotations made in a Kobo ebook are contained in a `.epub.annot` file. To get this file, connect you Kobo to your computer, and open the Kobo in your file browser (you might need to press the `Connect` button on the Kobo). Mine was in a folder called `Digital Editions`. \n",
    "\n",
    "The file from Kobo is a simple XML file with the following structure:\n",
    "\n",
    "```\n",
    "<annotationSet ...>\n",
    "    <publication>...</publication>\n",
    "    <annotation>\n",
    "        <dc:identifier>urn:uuid:4e5f9ac1-f3e2-4b64-82fb-f8ddeab6d835</dc:identifier>\n",
    "        <dc:date>2024-08-27T17:26:06Z</dc:date>\n",
    "        <dc:creator>urn:uuid:dd417800-d0d1-471f-acaf-74a460c73b28</dc:creator>\n",
    "        <target>\n",
    "            <fragment start=\"Barbery,Muriel-L'elegance%20du%20herisson(2006).French.ebook.AlexandriZ_split_005.html#point(/1/4/34/1:115)\" end=\"Barbery,Muriel-L'elegance%20du%20herisson(2006).French.ebook.AlexandriZ_split_005.html#point(/1/4/34/1:183)\" progress=\"0.049763\">\n",
    "                <text>Mais le monde tel qu’il\n",
    "est n’est pas fait pour les princesses. </text>\n",
    "            </fragment>\n",
    "        </target>\n",
    "    </annotation>\n",
    "    <annotation>\n",
    "        ...\n",
    "    </annotation>\n",
    "...\n",
    "```"
   ]
  },
  {
   "cell_type": "code",
   "execution_count": 18,
   "metadata": {},
   "outputs": [
    {
     "name": "stdout",
     "output_type": "stream",
     "text": [
      "Note: you may need to restart the kernel to use updated packages.\n"
     ]
    }
   ],
   "source": [
    "%pip install -q \\\n",
    "    pandas"
   ]
  },
  {
   "cell_type": "code",
   "execution_count": 3,
   "metadata": {},
   "outputs": [],
   "source": [
    "import xml.etree.ElementTree as ET\n",
    "import re"
   ]
  },
  {
   "cell_type": "code",
   "execution_count": 4,
   "metadata": {},
   "outputs": [],
   "source": [
    "with open('annotations.epub.annot', 'r', encoding='utf-8') as file:\n",
    "    annotations_file_content = file.read()"
   ]
  },
  {
   "cell_type": "code",
   "execution_count": 23,
   "metadata": {},
   "outputs": [
    {
     "name": "stdout",
     "output_type": "stream",
     "text": [
      "Here's a sample \n",
      "\n",
      "[\"L'élégance du hérisson (Barbery,Muriel)\", 'Mais le monde tel qu’il est n’est pas fait pour les princesses.', '5']\n",
      "[\"L'élégance du hérisson (Barbery,Muriel)\", 'Il ne reste plus qu’à s’anesthésier comme on peut en tentant de se masquer le fait qu’on ne trouve aucun sens à sa vie et on trompe ses propres enfants pour tenter de mieux se convaincre soi-même.', '5']\n",
      "[\"L'élégance du hérisson (Barbery,Muriel)\", 'Apparemment, de temps en temps, les adultes prennent le temps de s’asseoir et de contempler le désastre qu’est leur vie.', '5']\n",
      "[\"L'élégance du hérisson (Barbery,Muriel)\", 'en cherchant toujours la même chose\\xa0: des moments compacts où un joueur devenait son propre mouvement sans avoir besoin de se fragmenter en se dirigeant vers.', '8']\n",
      "[\"L'élégance du hérisson (Barbery,Muriel)\", 'les coucougnettes.', '17']\n"
     ]
    }
   ],
   "source": [
    "# Parse XML\n",
    "root = ET.fromstring(annotations_file_content)\n",
    "\n",
    "# Define namespace dictionary to access elements with namespaces\n",
    "ns = {\n",
    "    'dc': 'http://purl.org/dc/elements/1.1/',\n",
    "    '': 'http://ns.adobe.com/digitaleditions/annotations'\n",
    "}\n",
    "\n",
    "# Extract quotes and page numbers\n",
    "quotes = []\n",
    "for annotation in root.findall('.//annotation', ns):\n",
    "    # Extract book title and author from the publication element\n",
    "    publication = root.find('.//publication', ns)\n",
    "    book_title = publication.find('dc:title', ns).text\n",
    "    book_author = publication.find('dc:creator', ns).text\n",
    "    book = f\"{book_title} ({book_author})\"\n",
    "    text = annotation.find('.//target/fragment/text', ns).text.strip()\n",
    "    text = re.sub(r'\\n(?!\\n)', ' ', text)\n",
    "    fragment_start = annotation.find('.//target/fragment', ns).attrib['start']\n",
    "    \n",
    "    # Extract page information from the fragment URL\n",
    "    page_match = re.search(r'split_(\\d+)', fragment_start)\n",
    "    page = page_match.group(1) if page_match else \"unknown\"\n",
    "    page = page.lstrip('0')\n",
    "    \n",
    "    # Append the formatted quote with page\n",
    "    quotes.append([book, text, page])\n",
    "\n",
    "print (\"Here's a sample \\n\")\n",
    "\n",
    "# Display a sample of quotes\n",
    "for quote in quotes[:5]:\n",
    "    print(quote)"
   ]
  },
  {
   "cell_type": "code",
   "execution_count": null,
   "metadata": {},
   "outputs": [],
   "source": [
    "# No need for CSV, copy to clipboard instead\n",
    "\n",
    "# import csv\n",
    "\n",
    "# columns = ['Book', 'Quote', 'Page']\n",
    "# def create_csv():\n",
    "#     with open(f'quotes.csv', 'w', newline='', encoding='utf-8') as csvfile:\n",
    "#         writer = csv.writer(csvfile)\n",
    "#         writer.writerow(columns)\n",
    "#         writer.writerows(quotes)\n",
    "\n",
    "# # Example usage\n",
    "# create_csv()"
   ]
  },
  {
   "cell_type": "code",
   "execution_count": 22,
   "metadata": {},
   "outputs": [],
   "source": [
    "import pandas as pd\n",
    "\n",
    "columns = ['Book', 'Quote', 'Page']\n",
    "\n",
    "# Create a DataFrame from the quotes\n",
    "df_quotes = pd.DataFrame(quotes, columns=columns)\n",
    "\n",
    "# Copy the DataFrame to the clipboard\n",
    "df_quotes.to_clipboard(index=False)"
   ]
  }
 ],
 "metadata": {
  "kernelspec": {
   "display_name": ".venv",
   "language": "python",
   "name": "python3"
  },
  "language_info": {
   "codemirror_mode": {
    "name": "ipython",
    "version": 3
   },
   "file_extension": ".py",
   "mimetype": "text/x-python",
   "name": "python",
   "nbconvert_exporter": "python",
   "pygments_lexer": "ipython3",
   "version": "3.12.5"
  }
 },
 "nbformat": 4,
 "nbformat_minor": 2
}
