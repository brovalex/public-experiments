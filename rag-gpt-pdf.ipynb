{
 "cells": [
  {
   "cell_type": "markdown",
   "metadata": {},
   "source": [
    "# Retrieval augmented generation (RAG) prototype for home appliance maintenance\n",
    "\n",
    "Prototype of RAG with OpenAI and Pinecone to get maintenance instructions from provided PDF manual. \n",
    "\n",
    "Uses:\n",
    "- langchain\n",
    "- Pincecone\n",
    "- OpenAI GPT\n",
    "- Python libraries for text extraction from PDF\n",
    "\n",
    "Sources - mixed two tutorials:\n",
    "- [https://medium.com/@anderson.riciamorim/a-quick-guide-to-use-your-own-data-in-gpt-with-retrieval-augmented-generation-73f3e9d54bcd]\n",
    "- but libraries not cooperating, so leaning into [https://python.langchain.com/v0.2/docs/integrations/vectorstores/pinecone/]"
   ]
  },
  {
   "cell_type": "code",
   "execution_count": null,
   "metadata": {},
   "outputs": [],
   "source": [
    "# Using venv in vscode\n",
    "# open new terminal\n",
    "# python3 -m venv venv\n",
    "# then Cmd-Shift-P and select Python: Select Interpreter"
   ]
  },
  {
   "cell_type": "code",
   "execution_count": null,
   "metadata": {},
   "outputs": [],
   "source": [
    "%pip install --upgrade --quiet  \\\n",
    "    langchain-pinecone \\\n",
    "    langchain-openai \\\n",
    "    langchain \\\n",
    "    langchain-community \\\n",
    "    pypdf \\\n",
    "    python-dotenv"
   ]
  },
  {
   "cell_type": "code",
   "execution_count": null,
   "metadata": {},
   "outputs": [],
   "source": [
    "import os\n",
    "from dotenv import load_dotenv, find_dotenv\n",
    "\n",
    "load_dotenv(find_dotenv(), override=True)"
   ]
  },
  {
   "cell_type": "code",
   "execution_count": 5,
   "metadata": {},
   "outputs": [],
   "source": [
    "from langchain_community.document_loaders import TextLoader\n",
    "from langchain_openai import OpenAIEmbeddings\n",
    "from langchain.text_splitter import RecursiveCharacterTextSplitter\n",
    "from pypdf import PdfReader\n",
    "\n",
    "file = 'Honeywell-HEV320-Cool-Mist-Humidifier-Manual.pdf'\n",
    "reader = PdfReader(file)\n",
    "text = \"\"\n",
    "for page in reader.pages:\n",
    "    text += page.extract_text() + \"\\n\"\n",
    "text_splitter = RecursiveCharacterTextSplitter(\n",
    "    separators=[\"\\n\\n\", \"\\n\", \" \", \"\"],\n",
    "    chunk_size=1000,\n",
    "    chunk_overlap=200)\n",
    "chunks = text_splitter.create_documents(texts=[text])\n",
    "\n",
    "embeddings = OpenAIEmbeddings()"
   ]
  },
  {
   "cell_type": "code",
   "execution_count": null,
   "metadata": {},
   "outputs": [],
   "source": [
    "from pinecone import Pinecone, ServerlessSpec\n",
    "from langchain_pinecone import PineconeVectorStore\n",
    "import time\n",
    "\n",
    "pc = Pinecone(api_key=os.environ.get(\"PINECONE_API_KEY\"))\n",
    "\n",
    "index_name = \"my-index\"\n",
    "\n",
    "if index_name not in [index_info[\"name\"] for index_info in pc.list_indexes()]:\n",
    "    pc.create_index(\n",
    "        name=index_name,\n",
    "        dimension=1536,\n",
    "        metric=\"cosine\",\n",
    "        spec=ServerlessSpec(cloud=\"aws\", region=\"us-east-1\"),\n",
    "    )\n",
    "    while not pc.describe_index(index_name).status[\"ready\"]:\n",
    "        time.sleep(1)\n",
    "\n",
    "index = pc.Index(index_name)\n",
    "\n",
    "docsearch = PineconeVectorStore.from_documents(chunks, embeddings, index_name=index_name)"
   ]
  },
  {
   "cell_type": "code",
   "execution_count": 13,
   "metadata": {},
   "outputs": [
    {
     "name": "stdout",
     "output_type": "stream",
     "text": [
      "6 7CARING FOR YOUR HUMIDIFIER  (Continued)\n",
      "To keep your humidifier running efficiently, clean it regularly. Weekly cleaning is \n",
      "recommended. All maintenance should be done in the kitchen or bathroom on a water resistant surface near a faucet. Do not wash any components of this humidifier  in a dishwasher.\n",
      "To properly clean your humidifier we recommend the separate processes of Scale \n",
      "Removal and Disinfecting. These two processes must be done separately.\n",
      "Before CleaningCARING FOR YOUR HUMIDIFIERCARING FOR YOUR FILTER  (Continued)\n",
      "To prolong the life of your Wicking Filter, turn it over each time you fill the Water Tank. This will keep the top of the Filter from drying out and will help the Filter to age more evenly.\n",
      "If you notice the Filter getting hard, you may soak it in cool water to \n",
      "loosen mineral buildup. This will temporarily improve the performance of the Wicking Filter until a replacement Filter is purchased.\n"
     ]
    }
   ],
   "source": [
    "query = \"How often should I clean my humidifier?\"\n",
    "docs = docsearch.similarity_search(query)\n",
    "print(docs[0].page_content)"
   ]
  },
  {
   "cell_type": "code",
   "execution_count": 14,
   "metadata": {},
   "outputs": [
    {
     "name": "stdout",
     "output_type": "stream",
     "text": [
      "like the Honeywell HHM10 or H10C, available at retailers or on HoneywellPluggedIn.com.USING YOUR HUMIDIFIER Step 1\n",
      "CARING FOR YOUR FILTER\n",
      "It is recommended you change your Wicking Filter every 30-60 days depending on water quality and usage. If you have hard water you may need to replace your filter more frequently.\n",
      "Change your filter if you notice:• The filter is hard and crusty• The filter starts to give off an odor• Moisture output is decreasedBe sure to use only genuine Honeywell Replacement  \n",
      "Filters which are Protec\n",
      "® antimicrobially treated. This  \n",
      "helps prevent the migration of mold, algae and bacteria  \n",
      "on the filter.Replacement Wicking  \n",
      "Filter Honeywell  \n",
      "HC-888 Series Type C\n",
      " Step 2  Step 3\n"
     ]
    }
   ],
   "source": [
    "query = \"Do I need to change the filter?\"\n",
    "docs = docsearch.similarity_search(query)\n",
    "print(docs[0].page_content)"
   ]
  },
  {
   "cell_type": "code",
   "execution_count": 31,
   "metadata": {},
   "outputs": [],
   "source": [
    "from langchain import PromptTemplate\n",
    "import langchain\n",
    "from langchain.chains.retrieval_qa.base import RetrievalQA\n",
    "\n",
    "from langchain.chat_models import ChatOpenAI\n",
    "# import openai\n",
    "# openai.api_key=os.getenv(\"OPENAI_KEY\")\n",
    "\n",
    "llm = ChatOpenAI(model_name=\"gpt-4o\", temperature=0, openai_api_key=os.getenv(\"OPENAI_KEY\"))\n",
    "\n",
    "# llm = OpenAI(temperature=0, openai_api_key=os.getenv(\"OPENAI_KEY\"), model='gpt-4')\n",
    "embedding_generator = OpenAIEmbeddings(openai_api_key=os.getenv(\"OPENAI_KEY\"))\n",
    "\n",
    "# prompt template taken from: https://github.com/smatiolids/astra-agent-memory/tree/main\n",
    "\n",
    "prompt_template = \"\"\"\n",
    "Given the following extracted parts of a long document and a question, create a final answer with references (\"SOURCES\"). \n",
    "If you don't know the answer, just say that you don't know. Don't try to make up an answer.\n",
    "ALWAYS return a \"SOURCES\" part in your answer. \n",
    "\n",
    "\n",
    "QUESTION: {question}\n",
    "=========\n",
    "{summaries}\n",
    "=========\n",
    "FINAL ANSWER:\"\"\"\n",
    "PROMPT = PromptTemplate(\n",
    "    template=prompt_template, input_variables=[\"summaries\", \"question\"]\n",
    ")\n",
    "\n",
    "# Create a \"RetrievalQA\" chain\n",
    "langchain.verbose = False\n",
    "chainSim = RetrievalQA.from_chain_type(\n",
    "    llm=llm,\n",
    "    retriever=docsearch.as_retriever(),\n",
    "    chain_type_kwargs={\n",
    "        'prompt': PROMPT,\n",
    "        'document_variable_name': 'summaries'\n",
    "    }\n",
    ")"
   ]
  },
  {
   "cell_type": "code",
   "execution_count": 30,
   "metadata": {},
   "outputs": [
    {
     "name": "stdout",
     "output_type": "stream",
     "text": [
      "To maintain the humidifier, it is recommended to clean it weekly. This involves separate processes of Scale Removal and Disinfecting. Additionally, it is important to turn over the Wicking Filter each time the Water Tank is filled to prevent drying out. If the Filter becomes hard, soaking it in cool water can help loosen mineral buildup temporarily. It is crucial not to operate the humidifier without water, regularly clean it, and avoid using it outdoors. Attempting to repair or adjust any electrical or mechanical functions on the humidifier will void the warranty. For residential use only. \n",
      "\n",
      "SOURCES: The provided document on caring for the humidifier.\n"
     ]
    }
   ],
   "source": [
    "#gpt3.5-turbo\n",
    "QUERY = 'What maintenance is required for the humidifier?'\n",
    "\n",
    "# Run it and print results\n",
    "responseSim = chainSim.run(QUERY)\n",
    "print(responseSim)"
   ]
  },
  {
   "cell_type": "code",
   "execution_count": 32,
   "metadata": {},
   "outputs": [
    {
     "name": "stdout",
     "output_type": "stream",
     "text": [
      "To maintain your humidifier efficiently, follow these steps:\n",
      "\n",
      "1. **Regular Cleaning**: Clean the humidifier weekly to ensure it runs efficiently. Perform the cleaning in the kitchen or bathroom on a water-resistant surface near a faucet. Do not wash any components in a dishwasher.\n",
      "\n",
      "2. **Scale Removal and Disinfecting**: These two processes should be done separately to properly clean your humidifier.\n",
      "\n",
      "3. **Filter Maintenance**: To prolong the life of the Wicking Filter, turn it over each time you fill the Water Tank. If the filter becomes hard, soak it in cool water to loosen mineral buildup, which will temporarily improve its performance until a replacement is purchased.\n",
      "\n",
      "4. **General Precautions**:\n",
      "   - Do not operate the humidifier without water. Turn off and unplug the unit when the tank is empty.\n",
      "   - Do not attempt to repair or adjust any electrical or mechanical functions on the humidifier, as this will void your warranty.\n",
      "   - The humidifier is intended for indoor residential use only.\n",
      "   - When moving or lifting the full Water Tank, use two hands: one on the Tank Handle and the other on the bottom of the Tank.\n",
      "   - Do not add any medications, inhalants, scent products, or essential oils into the Base, Reservoir, or Water Tank.\n",
      "   - Do not cover or insert objects into any openings on the humidifier, and do not block intake or output vents.\n",
      "\n",
      "5. **Storage**: If the humidifier will not be used for more than a few days, empty the water from the Water Tank and Reservoir and dry out the filter to prevent the growth of bacteria or mold.\n",
      "\n",
      "SOURCES:\n",
      "- Extracted document parts provided.\n"
     ]
    }
   ],
   "source": [
    "#gpt-4o\n",
    "QUERY = 'What maintenance is required for the humidifier?'\n",
    "\n",
    "# Run it and print results\n",
    "responseSim = chainSim.run(QUERY)\n",
    "print(responseSim)"
   ]
  },
  {
   "cell_type": "code",
   "execution_count": null,
   "metadata": {},
   "outputs": [],
   "source": []
  }
 ],
 "metadata": {
  "kernelspec": {
   "display_name": "venv",
   "language": "python",
   "name": "python3"
  },
  "language_info": {
   "codemirror_mode": {
    "name": "ipython",
    "version": 3
   },
   "file_extension": ".py",
   "mimetype": "text/x-python",
   "name": "python",
   "nbconvert_exporter": "python",
   "pygments_lexer": "ipython3",
   "version": "3.12.3"
  }
 },
 "nbformat": 4,
 "nbformat_minor": 2
}
