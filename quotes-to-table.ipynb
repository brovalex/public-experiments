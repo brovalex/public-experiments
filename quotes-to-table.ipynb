{
 "cells": [
  {
   "cell_type": "markdown",
   "metadata": {},
   "source": [
    "# Quotes to table\n",
    "\n",
    "I use this script to parse a text file of quotes into a table that I can copy-paste in a spreadsheet I keep with quotes from books. \n",
    "\n",
    "The text patters I use to delimit the quotes and comments are as such:\n",
    "```\n",
    "[Comments are in square brackets]\n",
    "[Comment that end in a colon are in relation to a quote that follows:]\n",
    "A quote starts with a new line and can have a page number at the end (optional). 123\n",
    "Note that I keep quotes in one paragraph, so multiple paragraphs would be later parsed as multiple quotes. 123\n",
    "```\n",
    "\n",
    "I use the camera app to capture the text, and then paste it into the Notes app. I found that this has the most consistent experience on an iPhone (as opposed to e.g. using the OCR shortcut from inside an app). \n",
    "\n",
    "I already have a spreadsheet, so saving to the clipboard is most useful for me. You can export the Panda dataframe into a CSV or xls file if you'd like, of course. \n",
    "\n",
    "My spreadsheet has columns for book, comment, quote, page, codes, and notes. I use the codes column in my spreadsheet to tag topics, so I can sort related quotes across books later. "
   ]
  },
  {
   "cell_type": "code",
   "execution_count": 106,
   "metadata": {},
   "outputs": [
    {
     "name": "stdout",
     "output_type": "stream",
     "text": [
      "✅ Copied to clipboard\n"
     ]
    }
   ],
   "source": [
    "import pandas as pd\n",
    "\n",
    "def text2table(file, book_title, book_author):\n",
    "    with open('quotes.txt', 'r') as file:\n",
    "        paragraphs = file.read().split('\\n\\n')\n",
    "        data = {'quote': paragraphs}\n",
    "        df = pd.DataFrame(data)\n",
    "\n",
    "    #clean up\n",
    "    df['quote'] = df['quote'].apply(lambda x: x.strip())\n",
    "\n",
    "    #parse comments\n",
    "    for i in range(len(df)) :\n",
    "        if df['quote'].iloc[i].endswith(\":]\"):\n",
    "            df.at[i+1, 'comment'] = df['quote'].iloc[i]\n",
    "        else:\n",
    "            regex = 'r/'\n",
    "            df['quote'].iloc[i]\n",
    "    # drop comments duplicates\n",
    "    df = df[~(df['quote'].str.endswith(\":]\") & df['comment'].isna())]\n",
    "\n",
    "    # extract page numbers\n",
    "    df['page'] = df['quote'].str.extract(r'(\\d+)$')\n",
    "    # remove page numbers from 'quote'\n",
    "    df['quote'] = df['quote'].str.replace(r'(\\d+)$', '')\n",
    "\n",
    "    df['book'] = f'{book_title} ({book_author})'\n",
    "\n",
    "    #pre export\n",
    "    df.fillna('', inplace=True)\n",
    "    df = df[['book', 'comment', 'quote', 'page']]\n",
    "\n",
    "    return df\n",
    "\n",
    "df = text2table(file = \"quotes.txt\", book_author = \"Hannah Arendt\", book_title = \"The Human Condition\")\n",
    "df.to_clipboard(header=False, index=False)\n",
    "# df.iloc[1:]\n",
    "df\n",
    "print(\"✅ Copied to clipboard\")"
   ]
  }
 ],
 "metadata": {
  "kernelspec": {
   "display_name": "Python 3",
   "language": "python",
   "name": "python3"
  },
  "language_info": {
   "codemirror_mode": {
    "name": "ipython",
    "version": 3
   },
   "file_extension": ".py",
   "mimetype": "text/x-python",
   "name": "python",
   "nbconvert_exporter": "python",
   "pygments_lexer": "ipython3",
   "version": "3.12.3"
  }
 },
 "nbformat": 4,
 "nbformat_minor": 2
}
