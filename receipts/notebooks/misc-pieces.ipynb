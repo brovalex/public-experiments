{
 "cells": [
  {
   "cell_type": "code",
   "execution_count": 1,
   "metadata": {},
   "outputs": [
    {
     "data": {
      "text/plain": [
       "[[[60, 100], [160, 100], [160, 150], [60, 150]],\n",
       " [[100, 200], [300, 200], [300, 400], [100, 400]],\n",
       " [[50, 500], [150, 500], [150, 550], [50, 550]],\n",
       " [[165, 910], [657, 910], [657, 959], [165, 959]],\n",
       " [[50, 950], [150, 950], [150, 1000], [50, 1000]]]"
      ]
     },
     "execution_count": 1,
     "metadata": {},
     "output_type": "execute_result"
    }
   ],
   "source": [
    "# test sort top down, left to right\n",
    "coordinates_list = [\n",
    "    [[165, 910], [657, 910], [657, 959], [165, 959]],\n",
    "    [[100, 200], [300, 200], [300, 400], [100, 400]],\n",
    "    [[50, 500], [150, 500], [150, 550], [50, 550]],\n",
    "    [[50, 950], [150, 950], [150, 1000], [50, 1000]],\n",
    "    [[60, 100], [160, 100], [160, 150], [60, 150]]\n",
    "]\n",
    "def sort_coordinates(coordinates_list):\n",
    "    return sorted(\n",
    "        coordinates_list,\n",
    "        key=lambda coords: (max(y for _, y in coords), min(x for x, _ in coords))\n",
    "    )\n",
    "\n",
    "sort_coordinates(coordinates_list)"
   ]
  },
  {
   "cell_type": "code",
   "execution_count": 2,
   "metadata": {},
   "outputs": [
    {
     "data": {
      "text/plain": [
       "[[[60, 100], [160, 100], [160, 150], [60, 150]],\n",
       " [[100, 200], [300, 200], [300, 400], [100, 400]],\n",
       " [[50, 500], [150, 500], [150, 550], [50, 550]],\n",
       " [[165, 910], [657, 910], [657, 959], [165, 959]],\n",
       " [[50, 950], [150, 950], [150, 1000], [50, 1000]]]"
      ]
     },
     "execution_count": 2,
     "metadata": {},
     "output_type": "execute_result"
    }
   ],
   "source": [
    "def sort_rectangles(rectangles):\n",
    "    # Calculate the topmost y-coordinate and leftmost x-coordinate for each rectangle\n",
    "    def top_left(rect):\n",
    "        top_y = min(rect[0][1], rect[1][1], rect[2][1], rect[3][1])\n",
    "        left_x = min(rect[0][0], rect[1][0], rect[2][0], rect[3][0])\n",
    "        return (top_y, left_x)\n",
    "    \n",
    "    # Sort rectangles using the calculated top-left coordinates\n",
    "    sorted_rectangles = sorted(rectangles, key=top_left)\n",
    "    return sorted_rectangles\n",
    "\n",
    "sort_rectangles(coordinates_list)"
   ]
  },
  {
   "cell_type": "code",
   "execution_count": 8,
   "metadata": {},
   "outputs": [
    {
     "name": "stdout",
     "output_type": "stream",
     "text": [
      "[]\n",
      "['86.59']\n",
      "price: 86.59\n"
     ]
    }
   ],
   "source": [
    "# test_strings = [\"Ck Brst Strp EatWel\", \"412.99\", \"Brj oche Hamburger  Bu\", \"$6.99\", \"69\"]\n",
    "test_strings = ['\"hite Bread', '86.59 €']\n",
    "candidate_receiptTexts = test_strings\n",
    "import re\n",
    "\n",
    "for candidate_receiptText in candidate_receiptTexts:\n",
    "    text = candidate_receiptText#['text']\n",
    "    price = re.findall(r'\\d+\\.\\d{2}', text)\n",
    "    print(price)\n",
    "    if len(price) > 0:\n",
    "        print(f'price: {float(price[0])}')"
   ]
  },
  {
   "cell_type": "code",
   "execution_count": null,
   "metadata": {},
   "outputs": [],
   "source": []
  }
 ],
 "metadata": {
  "kernelspec": {
   "display_name": ".venv",
   "language": "python",
   "name": "python3"
  },
  "language_info": {
   "codemirror_mode": {
    "name": "ipython",
    "version": 3
   },
   "file_extension": ".py",
   "mimetype": "text/x-python",
   "name": "python",
   "nbconvert_exporter": "python",
   "pygments_lexer": "ipython3",
   "version": "3.12.3"
  }
 },
 "nbformat": 4,
 "nbformat_minor": 2
}
