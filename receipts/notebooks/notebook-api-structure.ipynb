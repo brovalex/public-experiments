{
 "cells": [
  {
   "cell_type": "markdown",
   "metadata": {},
   "source": [
    "# attempt notebook with API-first structure\n",
    "In the previous attempt (ocr-test.ipynb), I got all the pieces working, but the code was difficult to read, and made moving to a relation database difficult. I'll prototype an \"API-first notebook\" to see if a that would be a better structure to bridge the data/backend/frontend."
   ]
  },
  {
   "cell_type": "code",
   "execution_count": null,
   "metadata": {},
   "outputs": [],
   "source": [
    "# define \"API\" first, where each function can be replaced by a simple API call\n",
    "\n",
    "#\n",
    "# *** IN PSEUDO CODE ***\n",
    "#\n",
    "\n",
    "# upload images\n",
    "def uploadImage(rawFile):\n",
    "    # write to temporary storage \n",
    "    #     -- or keep in case crop doesn't do a good job, which already happened once but then need table for rawFiles too\n",
    "    return rawFile1TempUrl # assuming passing the URL to another function if don't care for storing it\n",
    "# crop/convert/postprocess images\n",
    "def postProcessImages(rawFiles):\n",
    "    # write to storage\n",
    "    # write to postProcessedFiles table\n",
    "    return [postProcessedFile1.Id, postProcessedFile2.Id, postProcessedFile3.Id] # could return success/failure, but prefer to return IDs for reference, might want to return objects depending on how it'll be used later\n",
    "# ocr images to create receiptTexts\n",
    "def processImage(postProcessedFile):\n",
    "    # contains data for boundingbox, text\n",
    "    # contains reference to filename\n",
    "    return [receiptText1.Id, receiptText2.Id, receiptText3.Id]\n",
    "# create receipt\n",
    "def createReceipt(receiptTexts):\n",
    "    # contains refrence to receiptTexts, filenames via receiptTexts\n",
    "    # write to receipts table\n",
    "    return receipt1.Id\n",
    "\n",
    "# define/import referenceItems\n",
    "def createReferenceItem(name, quantity, unitOfMeasure, price, pricePerWeight, referenceUrl):\n",
    "    # contains data for name, quantity, unitOfMeasure, price, pricePerWeight, referenceUrl\n",
    "    # write to referenceItems table\n",
    "    return referenceItem1.Id\n",
    "# define/import search querries tied to referenceItems\n",
    "def createEligibleProduct(productName=\"Schar Gluten Free Hot Dog Buns\", referenceItem=\"Hot dog buns\"):\n",
    "    # contains data for productName, referenceItem\n",
    "    # write to eligibleProducts table\n",
    "    return searchQuerry1.Id\n",
    "\n",
    "# parse receiptTexts against possible product names to find and create eligible eligibleExpenses (description, amount, date, searchQuerry, referenceItem)\n",
    "def checkForEligibleProductName(receiptTextId):\n",
    "    def checkProductName(receiptTextId):\n",
    "        # check if text in receiptText is in eligibleProducts\n",
    "        return True\n",
    "    def lookForProductPrice(receiptTextId):\n",
    "        # bunch of magic here\n",
    "        return price\n",
    "    return checkProductName(receiptTextId), lookForProductPrice(receiptTextId)\n",
    "def createEligibleExpense(description, amount, date, searchQuerry, referenceItemId):\n",
    "    # contains data for description, amount, date, searchQuerry, referenceItem\n",
    "    # write to eligibleExpenses table\n",
    "    return eligibleExpense1.Id\n",
    "def parseEligibleExpenses(receiptId):\n",
    "    # requires eligibleProducts table\n",
    "    # can access receiptTexts via receiptId\n",
    "    # (?) not sure if a single call is a good way to do it, i.e. maybe a way to bulk process that's better\n",
    "    #     though a this call will still be necessary at some point, maybe it's a matter of doing a good job\n",
    "    #     at cleaning the data before firing off individual search querries\n",
    "    for receiptTextId in receipt[receiptId].receiptTexts:\n",
    "        if checkForEligibleProductName(receiptTextId):\n",
    "            createEligibleExpense(priceEach, quantity, receiptTextId, referenceItemId)\n",
    "    return [eligibleExpense1.Id, eligibleExpense2.Id, eligibleExpense3.Id]"
   ]
  },
  {
   "cell_type": "code",
   "execution_count": null,
   "metadata": {},
   "outputs": [],
   "source": []
  }
 ],
 "metadata": {
  "kernelspec": {
   "display_name": ".venv",
   "language": "python",
   "name": "python3"
  },
  "language_info": {
   "name": "python",
   "version": "3.12.3"
  }
 },
 "nbformat": 4,
 "nbformat_minor": 2
}
