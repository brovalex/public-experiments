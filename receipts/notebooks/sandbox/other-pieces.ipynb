{
 "cells": [
  {
   "cell_type": "code",
   "execution_count": 1,
   "metadata": {},
   "outputs": [
    {
     "data": {
      "text/plain": [
       "[('banana', 100, 1),\n",
       " ('apple', 18, 0),\n",
       " ('eagle', 18, 4),\n",
       " ('carrot', 17, 2),\n",
       " ('duck', 0, 3)]"
      ]
     },
     "execution_count": 1,
     "metadata": {},
     "output_type": "execute_result"
    }
   ],
   "source": [
    "# test for indexes\n",
    "\n",
    "from fuzzywuzzy import fuzz    \n",
    "from fuzzywuzzy import process\n",
    "\n",
    "box = ['apple','banana','carrot','duck','eagle']\n",
    "box_dict = {i: val for i, val in enumerate(box)}\n",
    "# box_dict\n",
    "# {0: 'apple',\n",
    "#  1: 'banana',\n",
    "#  2: 'carrot',\n",
    "#  3: 'duck',\n",
    "#  4: 'eagle'}\n",
    "\n",
    "process.extract(\"banana\", box_dict, scorer=fuzz.WRatio)"
   ]
  },
  {
   "cell_type": "code",
   "execution_count": null,
   "metadata": {},
   "outputs": [],
   "source": []
  }
 ],
 "metadata": {
  "kernelspec": {
   "display_name": ".venv",
   "language": "python",
   "name": "python3"
  },
  "language_info": {
   "codemirror_mode": {
    "name": "ipython",
    "version": 3
   },
   "file_extension": ".py",
   "mimetype": "text/x-python",
   "name": "python",
   "nbconvert_exporter": "python",
   "pygments_lexer": "ipython3",
   "version": "3.12.3"
  }
 },
 "nbformat": 4,
 "nbformat_minor": 2
}
