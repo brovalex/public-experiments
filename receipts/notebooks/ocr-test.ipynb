{
 "cells": [
  {
   "cell_type": "code",
   "execution_count": 272,
   "metadata": {},
   "outputs": [
    {
     "name": "stdout",
     "output_type": "stream",
     "text": [
      "Note: you may need to restart the kernel to use updated packages.\n"
     ]
    }
   ],
   "source": [
    "%pip install -q \\\n",
    "    easyocr \\\n",
    "    python-Levenshtein \\\n",
    "    fuzzywuzzy"
   ]
  },
  {
   "cell_type": "code",
   "execution_count": 273,
   "metadata": {},
   "outputs": [],
   "source": [
    "import csv\n",
    "import easyocr\n",
    "# import Levenshtein"
   ]
  },
  {
   "cell_type": "code",
   "execution_count": 274,
   "metadata": {},
   "outputs": [],
   "source": [
    "reader = easyocr.Reader(['en']) # this needs to run only once to load the model into memory\n",
    "# result = reader.readtext('IMG_4549.jpeg')"
   ]
  },
  {
   "cell_type": "code",
   "execution_count": 275,
   "metadata": {},
   "outputs": [],
   "source": [
    "# receipt_strings_test = reader.readtext('IMG_4549.jpeg')\n",
    "# receipt_strings_test"
   ]
  },
  {
   "cell_type": "code",
   "execution_count": 276,
   "metadata": {},
   "outputs": [],
   "source": [
    "# i could select areas of interest in a UI and send only these\n",
    "# crop_test = reader.readtext('crop-test.png')\n",
    "# crop_test"
   ]
  },
  {
   "cell_type": "code",
   "execution_count": 277,
   "metadata": {},
   "outputs": [],
   "source": [
    "# import product list from csv file\n",
    "# i had this list from previous years of manually entering receipts\n",
    "\n",
    "products_list = []\n",
    "with open('product_list.csv', newline='') as f:\n",
    "    csvreader = csv.reader(f)\n",
    "    next(csvreader) # skip header row\n",
    "    for row in csvreader:\n",
    "        products_list.append(row[0])\n",
    "# products_list"
   ]
  },
  {
   "cell_type": "code",
   "execution_count": 278,
   "metadata": {},
   "outputs": [],
   "source": [
    "# # find gluten free products using levenstein distance\n",
    "\n",
    "# threshold = 0.3\n",
    "\n",
    "# # Function to find the best match\n",
    "# def find_best_match(receipt_string, products_list, threshold=threshold):\n",
    "#     best_match = None\n",
    "#     best_score = float('-inf')  # Initialize to negative infinity\n",
    "\n",
    "#     for name in products_list:\n",
    "#         score = Levenshtein.ratio(receipt_string, name)\n",
    "#         if score > best_score:\n",
    "#             best_score = score\n",
    "#             best_match = name\n",
    "\n",
    "#     if best_score >= threshold:\n",
    "#         return best_match, best_score\n",
    "#     else:\n",
    "#         return None, None\n",
    "\n",
    "# # Find the best match for each shorthand name and filter results by threshold\n",
    "\n",
    "# receipt_matches = []\n",
    "\n",
    "# for receipt_string in receipt_strings:\n",
    "#     best_match, best_score = find_best_match(receipt_string[1], products_list, threshold)\n",
    "#     if best_match is not None:\n",
    "#         receipt_matches.append((receipt_string, best_match, best_score))\n",
    "\n",
    "# # Print the results\n",
    "# for receipt_string, best_match, best_score in receipt_matches:\n",
    "#     print(f\"Best match for '{receipt_string[1]}': {best_match} (score: {best_score})\")"
   ]
  },
  {
   "cell_type": "code",
   "execution_count": 279,
   "metadata": {},
   "outputs": [],
   "source": [
    "# levenstein is not good at all, let's try fuzzywuzzy\n",
    "\n",
    "from fuzzywuzzy import fuzz\n",
    "from fuzzywuzzy import process\n",
    "import re\n",
    "\n",
    "def find_best_match(shorthand_name, full_product_names, threshold):\n",
    "    best_match, best_score = process.extractOne(shorthand_name, full_product_names, scorer=fuzz.token_set_ratio)\n",
    "    if best_score >= threshold:\n",
    "        # avoid strict substring matches\n",
    "        if len(shorthand_name)/len(best_match) > 0.4:\n",
    "            return best_match, best_score\n",
    "        else:\n",
    "            return None, None\n",
    "    else:\n",
    "        return None, None\n",
    "\n",
    "def pre_fuzzy(search_query):\n",
    "    # regex out 1 to 10 digits in the beginning of the string for sku codes in store receipts\n",
    "    search_query = re.sub(r'^\\d{1,10}', '', search_query)\n",
    "    return search_query\n",
    "\n",
    "# Find the best match for each shorthand name and filter results by threshold\n",
    "def find_glutenfree(receipt_strings, products_list, threshold):\n",
    "    results = []\n",
    "\n",
    "    for receipt_string in receipt_strings:\n",
    "        search_query = pre_fuzzy(receipt_string[1])\n",
    "        if len(search_query) > 2:           \n",
    "            best_match, best_score = find_best_match(search_query, products_list, threshold)\n",
    "        else:\n",
    "            best_match, best_score = None, None\n",
    "        if best_match is not None:\n",
    "            results.append((receipt_string, best_match, best_score))\n",
    "    return results\n",
    "\n",
    "# Print the results\n",
    "# glutenfree_matches = find_glutenfree(receipt_strings_test, products_list, threshold)\n",
    "# for receipt_string, best_match, best_score in glutenfree_matches:\n",
    "#     print(f\"Best match for '{receipt_string[1]}': {best_match} with a score of {best_score}, with a length ratio of {len(receipt_string[1])/len(best_match)}\")"
   ]
  },
  {
   "cell_type": "code",
   "execution_count": 280,
   "metadata": {},
   "outputs": [
    {
     "name": "stdout",
     "output_type": "stream",
     "text": [
      "price of GF  BRIOCHE HAM is None\n"
     ]
    }
   ],
   "source": [
    "# lets grab the prices\n",
    "\n",
    "# return index of best_match\n",
    "def get_index(best_match, receipt_strings):\n",
    "    for index, sub_array in enumerate(receipt_strings):\n",
    "        if len(sub_array) > 1 and sub_array[1] == best_match:\n",
    "            return index\n",
    "    return -1  # Return -1 if no match is found\n",
    "\n",
    "def find_next_two_values(index, receipt_strings):\n",
    "    if index == -1 or index + 2 >= len(receipt_strings):\n",
    "        return []  # Return an empty list if there are not enough elements\n",
    "    result = []\n",
    "    for i in range(1, 10):\n",
    "        if len(receipt_strings[index + i]) > 1:\n",
    "            result.append(receipt_strings[index + i][1])\n",
    "    return result\n",
    "\n",
    "def extract_price(value):\n",
    "    # Remove spaces and commas from the string\n",
    "    cleaned_value = value.replace(\" \",\"\").replace(\",\", \".\")\n",
    "    # print(cleaned_value)\n",
    "    return cleaned_value\n",
    "\n",
    "def price_search(values):\n",
    "    # print(values)\n",
    "    cleaned_values = [extract_price(value) for value in values]\n",
    "    # print(cleaned_values)\n",
    "    # keep only values containing a dot\n",
    "    cleaned_values = [value for value in cleaned_values if '.' in str(value)]\n",
    "    cleaned_values = [value for value in cleaned_values if value is not None]\n",
    "    # print(f'clean values: {cleaned_values}')\n",
    "\n",
    "    if cleaned_values:\n",
    "        # return cleaned_values[0]\n",
    "        try:\n",
    "            # regex out any character that isn't a digit or a dot\n",
    "            price = re.sub(r'[^\\d.]', '', cleaned_values[0])\n",
    "            price = float(price)\n",
    "            return price\n",
    "        except ValueError:\n",
    "            return None\n",
    "    else:\n",
    "        return None\n",
    "        # return ','.join(values) # for testing\n",
    "\n",
    "def find_price(receipt_string, receipt_strings):\n",
    "    target_index = get_index(receipt_string, receipt_strings)\n",
    "    # print(target_index)\n",
    "    next_values = find_next_two_values(target_index, receipt_strings)\n",
    "    # print(f'next values: {next_values}')\n",
    "    price = price_search(next_values)\n",
    "    return price\n",
    "\n",
    "# product = 'SCHR GF HAMB BUN'\n",
    "product = 'GF  BRIOCHE HAM'\n",
    "print(f'price of {product} is {find_price(product, receipt_strings)}')"
   ]
  },
  {
   "cell_type": "code",
   "execution_count": 281,
   "metadata": {},
   "outputs": [],
   "source": [
    "# lets put it all together\n",
    "def make_table(glutenfree_matches, receipt_strings, filename):\n",
    "    for receipt_string, best_match, best_score in glutenfree_matches:\n",
    "        product = receipt_string[1]\n",
    "        price = find_price(product, receipt_strings)\n",
    "        # TODO: add to an array that can be exported to a csv\n",
    "        print(f'{filename} -- \"{product}\" ({best_match}) @ ${price}')\n",
    "\n",
    "# make_table(glutenfree_matches)"
   ]
  },
  {
   "cell_type": "code",
   "execution_count": 282,
   "metadata": {},
   "outputs": [
    {
     "name": "stdout",
     "output_type": "stream",
     "text": [
      "IMG_4560.jpg -- \"Doughnut\" (Doughnut) @ $5.0\n",
      "IMG_4561.jpg -- \"Eco Pack Cer\" (Eco Pack Cert) @ $8.99\n",
      "IMG_4561.jpg -- \"Eco Pack Cer\" (Eco Pack Cert) @ $8.99\n",
      "IMG_4559.jpg -- \"22143 PRANA  CASHEVS\" (Prana cashews gf) @ $13.95\n",
      "IMG_4559.jpg -- \"20862 NATP WAFFLES GF HOMESTYLE\" (NATP WAFFLES GF HOMESTYLE) @ $6.25\n",
      "IMG_4559.jpg -- \"\"16171 BOB WHOLE GROUND  FLAXSEED MEA\" (Bob Red Mill Whole Ground Flaxseed) @ $7.95\n",
      "IMG_4559.jpg -- \"29805  SNYDER 'S GF  PRETZEL STICKS\" (Snyder's GF Pretzel Sticks) @ $7.15\n",
      "IMG_4559.jpg -- \"22418 QUE ORG,   TORTILLAS\" (Que Organic Tortillas) @ $6.95\n",
      "IMG_4559.jpg -- \"22705 SCHAR GF  CIABATTA BUNS\" (schar gf buns) @ $8.45\n",
      "IMG_4559.jpg -- \"18182 FODY SALSA MEDIUM 450ML\" (Fody salsa) @ $6.95\n",
      "IMG_4559.jpg -- \"20844 NATP  FRUIT   JUICE   CORN  FLAKES\" (NATP  FRUIT   JUICE   CORN  FLAKES) @ $13.55\n",
      "IMG_4559.jpg -- \"29804  SNYDER'$ GF  MINI  PRETZELS\" (Snyder's GF Mini Pretzels) @ $7.15\n",
      "IMG_4557.jpg -- \"17570 ODO HAMBURGER   BUNS\" (ODO HAMBURGER   BUNS) @ $5.25\n",
      "IMG_4557.jpg -- \"26458 BRIDGE  SHEET   POTATO CHIPS SAL\" (BRIDGE  PoTATO CHIPS) @ $3.5\n",
      "IMG_4557.jpg -- \"17396 BRIDGE PoTATo CHIPS CRINKLE S\" (BRIDGE  PoTATO CHIPS) @ $3.5\n",
      "IMG_4557.jpg -- \"22143 PRANA CASHEVS\" (Prana cashews gf) @ $13.95\n",
      "IMG_4551.jpg -- \"14503 WALK' GINGER  LEMON ` SHORTBREAD\" (WALKER'S GINGER  LEMON SHORTBREAD) @ $6.95\n",
      "IMG_4551.jpg -- \"20986 NEAL ' ORGANIC SALSA\" (NEAL ORGANIC SALSA) @ $0.7\n",
      "IMG_4551.jpg -- \"14111 SUNF   HUMMUS\" (HUMMUS) @ $3.95\n",
      "IMG_4551.jpg -- \"23951  TINK BROWN  RICE  FETTUCINI  397\" (TINK BROWN  RICE  FETTUCINI  397) @ $4.15\n",
      "IMG_4551.jpg -- \"28289 ENJOY` SEMI-SWEET MEGA CHOC CH\" (Enjoy Life Mega Chocolate Chunks Semi-Sweet - 283 g) @ $8.45\n",
      "IMG_4551.jpg -- \"17383 BRIDGE  PoTATO CHIPS SOUR  CREA\" (BRIDGE  PoTATO CHIPS) @ $3.5\n",
      "IMG_4551.jpg -- \"27140 BRIDGE   Potato CHIPS ALL  DRESS\" (BRIDGE  PoTATO CHIPS) @ $3.5\n",
      "IMG_4551.jpg -- \"24387 NATP   BUCKWHEAT  WILDBRRY WAFFL\" (NATP   BUCKWHEAT  WILDBRRY WAFFL) @ $6.95\n",
      "IMG_4551.jpg -- \"20862 NATP WAFFLES GF HOMESTYLE\" (NATP WAFFLES GF HOMESTYLE) @ $6.95\n",
      "IMG_4551.jpg -- \"22714 SCHAR GF  ENTERTAINMENT  CRACKE\" (SCHAR GF  ENTERTAINMENT  CRACKE) @ $5.85\n",
      "IMG_4551.jpg -- \"QUE   ORG.  TORTILLAS\" (Que Organic Tortillas) @ $6.95\n",
      "IMG_4553.jpg -- \"Ck Brst Strp EatWel\" (Chicken Brast Strips EatWell) @ $412.99\n",
      "IMG_4553.jpg -- \"Purest \"hite Bread\" (Purest White Bread) @ $86.59\n",
      "IMG_4552.jpg -- \"Cinnamon Maple Bun\" (Cinnamon Maple Bun) @ $4.75\n",
      "IMG_4552.jpg -- \"Mac & Cheese\" (Mac & Cheese) @ $25.98\n",
      "IMG_4552.jpg -- \"Bacon Mac & Cheese\" (Mac & Cheese) @ $212.99\n",
      "IMG_4552.jpg -- \"Muffins\" (English muffins) @ $4.5\n",
      "IMG_4552.jpg -- \"Caramel Chocolate Chip\" (Caramel Chocolate Chip Cookie Bar) @ $4.25\n"
     ]
    }
   ],
   "source": [
    "import os\n",
    "\n",
    "def list_files(directory, extension):\n",
    "    return list(f for f in os.listdir(directory) if f.endswith('.' + extension))\n",
    "\n",
    "for filename in list_files('./receipts', 'jpg'):\n",
    "    receipt_strings = reader.readtext('./receipts/'+filename)\n",
    "    # print(f'Processing {filename}')\n",
    "    make_table(find_glutenfree(receipt_strings, products_list, threshold=80), receipt_strings, filename)"
   ]
  },
  {
   "cell_type": "code",
   "execution_count": null,
   "metadata": {},
   "outputs": [],
   "source": []
  }
 ],
 "metadata": {
  "kernelspec": {
   "display_name": ".venv",
   "language": "python",
   "name": "python3"
  },
  "language_info": {
   "codemirror_mode": {
    "name": "ipython",
    "version": 3
   },
   "file_extension": ".py",
   "mimetype": "text/x-python",
   "name": "python",
   "nbconvert_exporter": "python",
   "pygments_lexer": "ipython3",
   "version": "3.12.3"
  }
 },
 "nbformat": 4,
 "nbformat_minor": 2
}
