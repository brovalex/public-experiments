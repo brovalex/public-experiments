{
 "cells": [
  {
   "cell_type": "code",
   "execution_count": 16,
   "metadata": {},
   "outputs": [],
   "source": [
    "import sqlite3\n",
    "import pandas as pd\n",
    "\n",
    "# Connect to your SQLite database\n",
    "conn = sqlite3.connect('../receipts-app/prisma/dev.db')"
   ]
  },
  {
   "cell_type": "code",
   "execution_count": 17,
   "metadata": {},
   "outputs": [
    {
     "name": "stdout",
     "output_type": "stream",
     "text": [
      "              name\n",
      "0          Receipt\n",
      "1  sqlite_sequence\n",
      "2          Expense\n",
      "3        ImageFile\n",
      "4    ReferenceItem\n",
      "5      ReceiptText\n"
     ]
    }
   ],
   "source": [
    "# Get a list of all tables in the database\n",
    "tables = pd.read_sql_query(\"SELECT name FROM sqlite_master WHERE type='table';\", conn)\n",
    "print(tables)"
   ]
  },
  {
   "cell_type": "code",
   "execution_count": 18,
   "metadata": {},
   "outputs": [
    {
     "name": "stdout",
     "output_type": "stream",
     "text": [
      "                                           boundingBox  \\\n",
      "0    [[np.int32(141), np.int32(101)], [np.int32(619...   \n",
      "1    [[np.int32(87), np.int32(232)], [np.int32(594)...   \n",
      "2    [[np.int32(179), np.int32(270)], [np.int32(499...   \n",
      "3    [[np.int32(103), np.int32(304)], [np.int32(237...   \n",
      "4    [[np.int32(245), np.int32(309)], [np.int32(265...   \n",
      "..                                                 ...   \n",
      "218  [[np.int32(217), np.int32(3863)], [np.int32(27...   \n",
      "219  [[np.int32(308), np.int32(3863)], [np.int32(41...   \n",
      "220  [[np.int32(421), np.int32(3869)], [np.int32(60...   \n",
      "221  [[np.float64(150.34478822279527), np.float64(4...   \n",
      "222  [[np.float64(160.9563638994289), np.float64(12...   \n",
      "\n",
      "                                   text imageFileId  \n",
      "0                              IFRESHCO         123  \n",
      "1    CARLETON PLACE LANSDOWNE FRESHCO _         123  \n",
      "2                  110 Lansdowne Avenue         123  \n",
      "3                             Car Ieton         123  \n",
      "4                                     P         123  \n",
      "..                                  ...         ...  \n",
      "218                                 COD         123  \n",
      "219                             Nuaalcc         123  \n",
      "220                         To Uti Ccoo         123  \n",
      "221                                card         123  \n",
      "222                                 Yog         123  \n",
      "\n",
      "[223 rows x 3 columns]\n"
     ]
    }
   ],
   "source": [
    "# Read a specific table into a DataFrame\n",
    "query = \"SELECT * FROM ReceiptText\"\n",
    "df = pd.read_sql_query(query, conn)\n",
    "\n",
    "# Print the DataFrame\n",
    "print(df)"
   ]
  },
  {
   "cell_type": "code",
   "execution_count": 19,
   "metadata": {},
   "outputs": [],
   "source": [
    "conn.close()"
   ]
  },
  {
   "cell_type": "markdown",
   "metadata": {},
   "source": [
    "Didn't work great, issues with primary key autoincrement, don't want to break ORM on front-end"
   ]
  },
  {
   "cell_type": "code",
   "execution_count": null,
   "metadata": {},
   "outputs": [],
   "source": []
  }
 ],
 "metadata": {
  "kernelspec": {
   "display_name": ".venv",
   "language": "python",
   "name": "python3"
  },
  "language_info": {
   "codemirror_mode": {
    "name": "ipython",
    "version": 3
   },
   "file_extension": ".py",
   "mimetype": "text/x-python",
   "name": "python",
   "nbconvert_exporter": "python",
   "pygments_lexer": "ipython3",
   "version": "3.12.3"
  }
 },
 "nbformat": 4,
 "nbformat_minor": 2
}
