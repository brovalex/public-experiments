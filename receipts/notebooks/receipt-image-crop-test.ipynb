{
 "cells": [
  {
   "cell_type": "code",
   "execution_count": 5,
   "metadata": {},
   "outputs": [
    {
     "name": "stdout",
     "output_type": "stream",
     "text": [
      "Note: you may need to restart the kernel to use updated packages.\n"
     ]
    }
   ],
   "source": [
    "%pip install -q \\\n",
    "    opencv-python \\\n",
    "    numpy \\\n",
    "    pillow-heif"
   ]
  },
  {
   "cell_type": "code",
   "execution_count": 43,
   "metadata": {},
   "outputs": [
    {
     "data": {
      "text/plain": [
       "['IMG_4551.heic',\n",
       " 'IMG_4560.heic',\n",
       " 'IMG_4556.heic',\n",
       " 'IMG_4557.heic',\n",
       " 'IMG_4561.heic',\n",
       " 'IMG_4558.heic',\n",
       " 'IMG_4554.heic',\n",
       " 'IMG_4555.heic',\n",
       " 'IMG_4559.heic',\n",
       " 'IMG_4552.heic',\n",
       " 'IMG_4553.heic']"
      ]
     },
     "execution_count": 43,
     "metadata": {},
     "output_type": "execute_result"
    }
   ],
   "source": [
    "# helper functions\n",
    "# # list all .heic or .jpg files in ./raw folder\n",
    "\n",
    "import os\n",
    "\n",
    "def list_files(directory, extension):\n",
    "    return list(f for f in os.listdir(directory) if f.endswith('.' + extension))\n",
    "\n",
    "list_files('./raw', 'heic')"
   ]
  },
  {
   "cell_type": "code",
   "execution_count": 44,
   "metadata": {},
   "outputs": [],
   "source": [
    "# my images will be in HEIC format from my iPhone\n",
    "from PIL import Image\n",
    "from pillow_heif import register_heif_opener\n",
    "\n",
    "register_heif_opener()\n",
    "\n",
    "def convert_heic_to_jpg(image_path):\n",
    "    image = Image.open(image_path)\n",
    "    image.save(image_path.replace('.heic', '.jpg'), format=\"jpeg\", quality=95)\n",
    "\n",
    "for filename in list_files('raw', 'heic'):\n",
    "    convert_heic_to_jpg(f'raw/{filename}')"
   ]
  },
  {
   "cell_type": "code",
   "execution_count": 45,
   "metadata": {},
   "outputs": [
    {
     "name": "stdout",
     "output_type": "stream",
     "text": [
      "701 1088 927 1842\n",
      "769 146 788 3886\n",
      "766 45 694 3987\n",
      "810 52 899 3922\n",
      "498 822 1042 2560\n",
      "658 238 969 3596\n",
      "836 3901 1 1\n",
      "804 138 766 3734\n",
      "688 231 790 3684\n",
      "808 136 790 3896\n",
      "602 310 888 3442\n"
     ]
    }
   ],
   "source": [
    "#https://stackoverflow.com/questions/68927536/how-to-automatically-find-a-rectangle-and-crop-in-opencv-or-pil\n",
    "import cv2\n",
    "import numpy as np\n",
    "\n",
    "def crop_receipt(filename):\n",
    "    # load image\n",
    "    img = cv2.imread(filename)\n",
    "\n",
    "    # get color bounds of white region\n",
    "    lower =(180,180,180) # lower bound for each channel\n",
    "    upper = (255,255,255) # upper bound for each channel\n",
    "\n",
    "    # threshold\n",
    "    threshold = cv2.inRange(img, lower, upper)\n",
    "\n",
    "    # get the largest contour\n",
    "    contours = cv2.findContours(threshold, cv2.RETR_EXTERNAL, cv2.CHAIN_APPROX_SIMPLE)\n",
    "    contours = contours[0] if len(contours) == 2 else contours[1]\n",
    "    big_contour = max(contours, key=cv2.contourArea)\n",
    "\n",
    "    # get bounding box\n",
    "    x,y,w,h = cv2.boundingRect(big_contour)\n",
    "    print(x,y,w,h)\n",
    "\n",
    "\n",
    "    # crop the image at the bounds\n",
    "    crop = img[y:y+h, x:x+w]\n",
    "\n",
    "    # write result to disk\n",
    "    # cv2.imwrite(\"screen_threshold.jpg\", threshold)\n",
    "    cv2.imwrite('receipts/'+filename.split('/')[-1], crop)\n",
    "\n",
    "# crop_receipt('IMG_4549_full.jpg')\n",
    "# list_files('raw', 'jpg')\n",
    "\n",
    "for filename in list_files('raw', 'jpg'):\n",
    "    crop_receipt(f'raw/{filename}')"
   ]
  },
  {
   "cell_type": "code",
   "execution_count": null,
   "metadata": {},
   "outputs": [],
   "source": []
  }
 ],
 "metadata": {
  "kernelspec": {
   "display_name": ".venv",
   "language": "python",
   "name": "python3"
  },
  "language_info": {
   "codemirror_mode": {
    "name": "ipython",
    "version": 3
   },
   "file_extension": ".py",
   "mimetype": "text/x-python",
   "name": "python",
   "nbconvert_exporter": "python",
   "pygments_lexer": "ipython3",
   "version": "3.12.3"
  }
 },
 "nbformat": 4,
 "nbformat_minor": 2
}
