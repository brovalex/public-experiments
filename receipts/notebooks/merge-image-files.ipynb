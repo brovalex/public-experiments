{
 "cells": [
  {
   "cell_type": "code",
   "execution_count": 8,
   "metadata": {},
   "outputs": [],
   "source": [
    "from PIL import Image\n",
    "\n",
    "# Define a list of arrays of files to merge by group\n",
    "folder = './receipts/'\n",
    "files_to_merge = [ # only in twos for now\n",
    "    ['img_4648.jpg', 'img_4649.jpg'],\n",
    "    ['img_4655.jpg', 'img_4656.jpg'],\n",
    "    ['img_4658.jpg', 'img_4659.jpg'],\n",
    "    ['img_4660.jpg', 'img_4661.jpg'],\n",
    "]\n",
    "\n",
    "# Open the two images\n",
    "for files in files_to_merge:\n",
    "    image1 = Image.open(folder + files[0])\n",
    "    image2 = Image.open(folder + files[1])\n",
    "\n",
    "    # Get dimensions of the images\n",
    "    width1, height1 = image1.size\n",
    "    width2, height2 = image2.size\n",
    "\n",
    "    # Create a new image with combined height and the max width of both images\n",
    "    combined_image = Image.new('RGB', (max(width1, width2), height1 + height2))\n",
    "\n",
    "    # Paste the images one below the other\n",
    "    combined_image.paste(image1, (0, 0))\n",
    "    combined_image.paste(image2, (0, height1))\n",
    "\n",
    "    # Save the combined image\n",
    "    combined_image.save(folder+files[0].split('.')[0] + \"_\" + files[1].split('.')[0] + '_combined.jpg')"
   ]
  },
  {
   "cell_type": "code",
   "execution_count": null,
   "metadata": {},
   "outputs": [],
   "source": []
  }
 ],
 "metadata": {
  "kernelspec": {
   "display_name": ".venv",
   "language": "python",
   "name": "python3"
  },
  "language_info": {
   "codemirror_mode": {
    "name": "ipython",
    "version": 3
   },
   "file_extension": ".py",
   "mimetype": "text/x-python",
   "name": "python",
   "nbconvert_exporter": "python",
   "pygments_lexer": "ipython3",
   "version": "3.12.5"
  }
 },
 "nbformat": 4,
 "nbformat_minor": 2
}
